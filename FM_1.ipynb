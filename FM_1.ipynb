{
  "nbformat": 4,
  "nbformat_minor": 0,
  "metadata": {
    "colab": {
      "provenance": []
    },
    "kernelspec": {
      "name": "python3",
      "display_name": "Python 3"
    },
    "language_info": {
      "name": "python"
    }
  },
  "cells": [
    {
      "cell_type": "code",
      "execution_count": 2,
      "metadata": {
        "id": "mtQqTD_2Qbs3"
      },
      "outputs": [],
      "source": [
        "import pandas as pd\n",
        "import numpy as np\n",
        "import matplotlib.pyplot as plt\n",
        "from scipy.optimize import minimize"
      ]
    },
    {
      "cell_type": "markdown",
      "source": [
        "## Creating data frames from Statistical information"
      ],
      "metadata": {
        "id": "ANeRHoeZQtOB"
      }
    },
    {
      "cell_type": "code",
      "source": [
        "data= {\n",
        "    'AAPL':[0.044857944, 0.009320453, -0.33517305, 5.034092588],\n",
        "    'AMZN':[0.010361979, 0.009556763, -0.312865226, 4.729806047],\n",
        "    'NFLX':[-0.29674829, 0.01340882, -3.101653581, 41.96801484],\n",
        "    'META':[-0.006934385, 0.11581856, -1.936505944, 23.28923563],\n",
        "    'GOOG':[0.029035134, 0.00837577, -0.197699834, 4.310171108]\n",
        "}"
      ],
      "metadata": {
        "id": "0Z2m4DGqQkdo"
      },
      "execution_count": 3,
      "outputs": []
    },
    {
      "cell_type": "code",
      "source": [
        "df_stats = pd.DataFrame(data, index=['Mean', 'St Dev','Skew','Kurt'])\n",
        "print(\"df_stats :\")\n",
        "print(df_stats)"
      ],
      "metadata": {
        "colab": {
          "base_uri": "https://localhost:8080/"
        },
        "id": "1M3oeQ6qSFb6",
        "outputId": "64253a17-b8dc-4a39-ff83-6b5440536b0e"
      },
      "execution_count": 4,
      "outputs": [
        {
          "output_type": "stream",
          "name": "stdout",
          "text": [
            "df_stats :\n",
            "            AAPL      AMZN       NFLX       META      GOOG\n",
            "Mean    0.044858  0.010362  -0.296748  -0.006934  0.029035\n",
            "St Dev  0.009320  0.009557   0.013409   0.115819  0.008376\n",
            "Skew   -0.335173 -0.312865  -3.101654  -1.936506 -0.197700\n",
            "Kurt    5.034093  4.729806  41.968015  23.289236  4.310171\n"
          ]
        }
      ]
    },
    {
      "cell_type": "code",
      "source": [
        "data ={\n",
        "    'AAPL': [1, 0.660738586, 0.460041141, 0.594784944, 0.698431255],\n",
        "    'AMZN': [0.660738586, 1, 0.593812086, 0.626197627, 0.679322691],\n",
        "    'NFLX': [0.460041141, 0.593812086, 1, 0.515892088, 0.492697083],\n",
        "    'META': [0.594784944, 0.626197627, 0.515892088, 1, 0.668023785],\n",
        "    'GOOG': [0.698431255, 0.679322691, 0.492697083, 0.668023785 ,1]\n",
        "}"
      ],
      "metadata": {
        "id": "D2pUzDmbSnLs"
      },
      "execution_count": 5,
      "outputs": []
    },
    {
      "cell_type": "code",
      "source": [
        "df_corr = pd.DataFrame(data, index=['AAPL','AMZN','NFLX','META','GOOG'])\n",
        "print(\"df_corr :\")\n",
        "print(df_corr)"
      ],
      "metadata": {
        "colab": {
          "base_uri": "https://localhost:8080/"
        },
        "id": "8Ovi5IYgUew0",
        "outputId": "c619bc7f-e173-41ac-b522-a802d9b26371"
      },
      "execution_count": 7,
      "outputs": [
        {
          "output_type": "stream",
          "name": "stdout",
          "text": [
            "df_corr :\n",
            "          AAPL      AMZN      NFLX      META      GOOG\n",
            "AAPL  1.000000  0.660739  0.460041  0.594785  0.698431\n",
            "AMZN  0.660739  1.000000  0.593812  0.626198  0.679323\n",
            "NFLX  0.460041  0.593812  1.000000  0.515892  0.492697\n",
            "META  0.594785  0.626198  0.515892  1.000000  0.668024\n",
            "GOOG  0.698431  0.679323  0.492697  0.668024  1.000000\n"
          ]
        }
      ]
    },
    {
      "cell_type": "markdown",
      "source": [
        "## Building the covariance matrix"
      ],
      "metadata": {
        "id": "I0CsqHwkU1nr"
      }
    },
    {
      "cell_type": "code",
      "source": [
        "std_deviations = df_stats.loc['St Dev']\n",
        "diagonal_matrix = np.diag(std_deviations)\n",
        "covariance_matrix = np.dot(diagonal_matrix, np.dot(df_corr.values, diagonal_matrix))\n",
        "df_covariance = pd.DataFrame(covariance_matrix, columns=df_corr.columns, index=df_corr.index)\n",
        "print(\"Covariance Matrix:\")\n",
        "print(df_covariance)\n"
      ],
      "metadata": {
        "colab": {
          "base_uri": "https://localhost:8080/"
        },
        "id": "wO0fjmKBWEOG",
        "outputId": "84c9a39e-c1b3-4f91-d29b-a41caef8ef20"
      },
      "execution_count": 10,
      "outputs": [
        {
          "output_type": "stream",
          "name": "stdout",
          "text": [
            "Covariance Matrix:\n",
            "          AAPL      AMZN      NFLX      META      GOOG\n",
            "AAPL  0.000087  0.000059  0.000057  0.000642  0.000055\n",
            "AMZN  0.000059  0.000091  0.000076  0.000693  0.000054\n",
            "NFLX  0.000057  0.000076  0.000180  0.000801  0.000055\n",
            "META  0.000642  0.000693  0.000801  0.013414  0.000648\n",
            "GOOG  0.000055  0.000054  0.000055  0.000648  0.000070\n"
          ]
        }
      ]
    },
    {
      "cell_type": "markdown",
      "source": [
        "## Creating the function to compute portfolio return and variance"
      ],
      "metadata": {
        "id": "DQ7HvAdYWx0j"
      }
    },
    {
      "cell_type": "code",
      "source": [
        "def get_portfolio_return(array_return, weights):\n",
        "  return np.sum(array_return*weights)\n",
        "def get_portfolio_variance(weights, df_cov):\n",
        "  return np.dot(weights.T, np.dot(df_cov, weights))"
      ],
      "metadata": {
        "id": "zVCtbAlZV7hD"
      },
      "execution_count": 11,
      "outputs": []
    },
    {
      "cell_type": "markdown",
      "source": [
        "## Now, Computing for each portfolio !"
      ],
      "metadata": {
        "id": "7AXDSgIxXSRc"
      }
    },
    {
      "cell_type": "markdown",
      "source": [
        "### For Portfolio A:"
      ],
      "metadata": {
        "id": "DYJPtPPnXZHY"
      }
    },
    {
      "cell_type": "code",
      "source": [
        "weights=np.array([1.5,0,0.5,0,0])\n",
        "print(f\"weights : {weights}\")\n",
        "print(f\"weights sum : {np.sum(weights)}\")\n",
        "print(f\"portfolio return : {get_portfolio_return(df_stats.loc['Mean'].values,weights)}\")\n",
        "print(f\"portfolio variance : {get_portfolio_variance(weights, df_covariance)}\")\n",
        "print(f\"portfolio std dev : {np.sqrt(get_portfolio_variance(weights,df_covariance))}\")\n",
        "print(f\"portfolio range return: [{get_portfolio_return(df_stats.loc['Mean'].values, weights)}]\")\n",
        "print(\"Portfolio Coefficient of variation:\", np.sqrt(get_portfolio_variance(weights, df_covariance)) / get_portfolio_return(df_stats.loc['Mean'].values, weights))"
      ],
      "metadata": {
        "colab": {
          "base_uri": "https://localhost:8080/"
        },
        "id": "uBpRmLd4XQhE",
        "outputId": "6a40ce19-0852-4bab-ca43-9d9dc0567082"
      },
      "execution_count": 12,
      "outputs": [
        {
          "output_type": "stream",
          "name": "stdout",
          "text": [
            "weights : [1.5 0.  0.5 0.  0. ]\n",
            "weights sum : 2.0\n",
            "portfolio return : -0.08108722900000001\n",
            "portfolio variance : 0.0003266498560541807\n",
            "portfolio std dev : 0.01807345722473099\n",
            "portfolio range return: [-0.08108722900000001]\n",
            "Portfolio Coefficient of variation: -0.22288907202305538\n"
          ]
        }
      ]
    },
    {
      "cell_type": "markdown",
      "source": [
        "### For Portfolio B:\n"
      ],
      "metadata": {
        "id": "HpbIRFOyaroR"
      }
    },
    {
      "cell_type": "code",
      "source": [
        "weights=np.array([0.6,0.0,.15,0.15,0.1])\n",
        "print(f\"weights : {weights}\")\n",
        "print(f\"weights sum : {np.sum(weights)}\")\n",
        "print(f\"portfolio return : {get_portfolio_return(df_stats.loc['Mean'].values,weights)}\")\n",
        "print(f\"portfolio variance : {get_portfolio_variance(weights, df_covariance)}\")\n",
        "print(f\"portfolio std dev : {np.sqrt(get_portfolio_variance(weights,df_covariance))}\")\n",
        "print(f\"portfolio range return: [{get_portfolio_return(df_stats.loc['Mean'].values, weights)}]\")\n",
        "print(\"Portfolio Coefficient of variation:\", np.sqrt(get_portfolio_variance(weights, df_covariance)) / get_portfolio_return(df_stats.loc['Mean'].values, weights))"
      ],
      "metadata": {
        "colab": {
          "base_uri": "https://localhost:8080/"
        },
        "id": "0aQ2WFALaVAK",
        "outputId": "283d659a-63a7-4987-eb62-00da69b6ba16"
      },
      "execution_count": 14,
      "outputs": [
        {
          "output_type": "stream",
          "name": "stdout",
          "text": [
            "weights : [0.6  0.   0.15 0.15 0.1 ]\n",
            "weights sum : 1.0\n",
            "portfolio return : -0.01573412145\n",
            "portfolio variance : 0.0005274503773819544\n",
            "portfolio std dev : 0.022966287845055725\n",
            "portfolio range return: [-0.01573412145]\n",
            "Portfolio Coefficient of variation: -1.459648568115999\n"
          ]
        }
      ]
    },
    {
      "cell_type": "markdown",
      "source": [
        "### For Portfolio C:"
      ],
      "metadata": {
        "id": "dvkUv77Sa8Nc"
      }
    },
    {
      "cell_type": "code",
      "source": [
        "weights=np.array([1.4,0.1,-0.3,-0.3,0.1])\n",
        "print(f\"weights : {weights}\")\n",
        "print(f\"weights sum : {np.sum(weights)}\")\n",
        "print(f\"portfolio return : {get_portfolio_return(df_stats.loc['Mean'].values,weights)}\")\n",
        "print(f\"portfolio variance : {get_portfolio_variance(weights, df_covariance)}\")\n",
        "print(f\"portfolio std dev : {np.sqrt(get_portfolio_variance(weights,df_covariance))}\")\n",
        "print(f\"portfolio range return: [{get_portfolio_return(df_stats.loc['Mean'].values, weights)}]\")\n",
        "print(\"Portfolio Coefficient of variation:\", np.sqrt(get_portfolio_variance(weights, df_covariance)) / get_portfolio_return(df_stats.loc['Mean'].values, weights))"
      ],
      "metadata": {
        "colab": {
          "base_uri": "https://localhost:8080/"
        },
        "id": "oPk0iZzFa4pK",
        "outputId": "d508273e-42ce-40af-d00c-a71578bd6d78"
      },
      "execution_count": 15,
      "outputs": [
        {
          "output_type": "stream",
          "name": "stdout",
          "text": [
            "weights : [ 1.4  0.1 -0.3 -0.3  0.1]\n",
            "weights sum : 0.9999999999999999\n",
            "portfolio return : 0.1578456354\n",
            "portfolio variance : 0.0008963839152858104\n",
            "portfolio std dev : 0.02993967126215334\n",
            "portfolio range return: [0.1578456354]\n",
            "Portfolio Coefficient of variation: 0.18967690292026498\n"
          ]
        }
      ]
    },
    {
      "cell_type": "code",
      "source": [
        "m= np.random.random(5)*2-1"
      ],
      "metadata": {
        "id": "3nmXGjoTbI3H"
      },
      "execution_count": 16,
      "outputs": []
    },
    {
      "cell_type": "code",
      "source": [
        "m"
      ],
      "metadata": {
        "colab": {
          "base_uri": "https://localhost:8080/"
        },
        "id": "LIkJCFHTbPv2",
        "outputId": "983b8249-9dc8-4648-8a98-1b5908093616"
      },
      "execution_count": 17,
      "outputs": [
        {
          "output_type": "execute_result",
          "data": {
            "text/plain": [
              "array([ 0.38652694,  0.39698873,  0.80086676, -0.10539967, -0.58251828])"
            ]
          },
          "metadata": {},
          "execution_count": 17
        }
      ]
    },
    {
      "cell_type": "code",
      "source": [
        "m/=m.sum()\n",
        "m"
      ],
      "metadata": {
        "colab": {
          "base_uri": "https://localhost:8080/"
        },
        "id": "6SEweQqrbQws",
        "outputId": "abf1c03c-4c3e-41de-8d9e-be6c99265b86"
      },
      "execution_count": 19,
      "outputs": [
        {
          "output_type": "execute_result",
          "data": {
            "text/plain": [
              "array([ 0.43116816,  0.44283821,  0.89336139, -0.11757261, -0.64979516])"
            ]
          },
          "metadata": {},
          "execution_count": 19
        }
      ]
    },
    {
      "cell_type": "code",
      "source": [
        "m.sum()"
      ],
      "metadata": {
        "colab": {
          "base_uri": "https://localhost:8080/"
        },
        "id": "xWEWGeHWbUbt",
        "outputId": "ea881fc5-c7be-46f3-d52e-e41527809742"
      },
      "execution_count": 20,
      "outputs": [
        {
          "output_type": "execute_result",
          "data": {
            "text/plain": [
              "1.0"
            ]
          },
          "metadata": {},
          "execution_count": 20
        }
      ]
    },
    {
      "cell_type": "code",
      "source": [
        "arr_weights=[]\n",
        "arr_returns=[]\n",
        "arr_stddev=[]\n",
        "\n",
        "for i in range(1000000):\n",
        "  m=np.random.random(5)*2-1\n",
        "  m/=m.sum()\n",
        "  if m.sum()==1:\n",
        "    arr_weights.append(m)\n",
        "    arr_returns.append(get_portfolio_return(df_stats.loc['Mean'].values,m))\n",
        "    arr_stddev.append(np.sqrt(get_portfolio_variance(m,df_covariance)))"
      ],
      "metadata": {
        "id": "adZTiArSbZHD"
      },
      "execution_count": 23,
      "outputs": []
    },
    {
      "cell_type": "code",
      "source": [
        "plt.rcParams['figure.figsize']=(11,6)\n",
        "plt.scatter(arr_stddev ,arr_returns)\n",
        "plt.show()"
      ],
      "metadata": {
        "colab": {
          "base_uri": "https://localhost:8080/",
          "height": 522
        },
        "id": "wq78Tc23buzu",
        "outputId": "c6c4a2ba-dc5b-4e63-b752-b39f72b33fd6"
      },
      "execution_count": 24,
      "outputs": [
        {
          "output_type": "display_data",
          "data": {
            "text/plain": [
              "<Figure size 1100x600 with 1 Axes>"
            ],
            "image/png": "[encoded data removed]"
          },
          "metadata": {}
        }
      ]
    },
    {
      "cell_type": "code",
      "source": [],
      "metadata": {
        "id": "6LK9PiCbcK-K"
      },
      "execution_count": null,
      "outputs": []
    }
  ]
}